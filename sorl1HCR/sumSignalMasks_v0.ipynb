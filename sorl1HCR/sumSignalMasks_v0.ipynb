{
 "cells": [
  {
   "cell_type": "code",
   "execution_count": null,
   "metadata": {},
   "outputs": [
    {
     "ename": "",
     "evalue": "",
     "output_type": "error",
     "traceback": [
      "\u001b[1;31mFailed to start the Kernel. \n",
      "\u001b[1;31mThe kernel died. Error: ... View Jupyter <a href='command:jupyter.viewOutput'>log</a> for further details."
     ]
    }
   ],
   "source": [
    "# Francois Kroll 19/05/2023\n",
    "# this script is just some edits to Measure_activevoxels_masks_CT.ipynb written by Chintan Trivedi\n",
    "# here goal is to measure total signal within masks (i.e. sum of gray intensity of every voxel in the mask)\n",
    "# instead of counting voxels above a certain threshold\n",
    "\n",
    "import os \n",
    "import numpy as np\n",
    "from numpy import mean\n",
    "from numpy import median\n",
    "import skimage\n",
    "import tifffile as tifffile\n",
    "from skimage.transform import downscale_local_mean\n",
    "from skimage.filters import rank_order\n",
    "from skimage.filters import median\n",
    "from skimage.filters import threshold_multiotsu as multiotsu\n",
    "import csv\n",
    "import nibabel as nib"
   ]
  },
  {
   "cell_type": "code",
   "execution_count": null,
   "metadata": {},
   "outputs": [],
   "source": [
    "import sys\n",
    "print(sys.version)"
   ]
  },
  {
   "cell_type": "code",
   "execution_count": 2,
   "metadata": {},
   "outputs": [],
   "source": [
    "# FK added 19/05/2023\n",
    "# small function to avoid importing .DS_Store on macos\n",
    "def listdir_nohidden(path):\n",
    "    return( sorted([f for f in os.listdir(path) if not f.startswith('.')]) )"
   ]
  },
  {
   "cell_type": "code",
   "execution_count": 3,
   "metadata": {},
   "outputs": [],
   "source": [
    "### main function which takes one brain and calculates, for each mask, sum, mean, median of every voxel within that mask\n",
    "\n",
    "\n",
    "def mask_process(mask_path, brain):\n",
    "    mask_pixels = []\n",
    "    sum_pixels = []\n",
    "    mean_pixels = []\n",
    "    median_pixels = []\n",
    "    max_pixels = []\n",
    "    min_pixels = []\n",
    "    \n",
    "    for files in listdir_nohidden(mask_path):\n",
    "        mask = tifffile.imread(mask_path + files) # open one mask at a time; # FK 19/05/2023 deleted + '//' + as using on macos\n",
    "\n",
    "        mask_pixels.append( np.count_nonzero(mask) ) # number of pixels in mask\n",
    "        sum_pixels.append( sum(brain[np.nonzero(mask)]) ) # sum of all pixels gray value\n",
    "        mean_pixels.append( np.mean(brain[np.nonzero(mask)]) ) # mean of all pixels gray value\n",
    "        median_pixels.append( np.median(brain[np.nonzero(mask)]) ) # median of all pixels gray value\n",
    "        min_pixels.append( np.min(brain[np.nonzero(mask)]) ) # min of all pixels gray value\n",
    "        max_pixels.append( np.max(brain[np.nonzero(mask)]) ) # max of all pixels gray value\n",
    "        \n",
    "    return mask_pixels, sum_pixels, mean_pixels, median_pixels, min_pixels, max_pixels"
   ]
  },
  {
   "cell_type": "code",
   "execution_count": 4,
   "metadata": {},
   "outputs": [],
   "source": [
    "mask_dir = \"/Users/francoiskroll/Dropbox/ZFAD/sorl1HCR/zbbMasks/\" #mask directory\n",
    "\n",
    "# – RUN1 –\n",
    "# brain_dir = \"/Users/francoiskroll/Dropbox/ZFAD/sorl1HCR/tphSCR/\" #data directory\n",
    "\n",
    "# – RUN2 –\n",
    "# brain_dir = \"/Users/francoiskroll/Dropbox/ZFAD/sorl1HCR/tphSORL1/\" #data directory\n",
    "\n",
    "# – RUN3 –\n",
    "# brain_dir = \"/Users/francoiskroll/Dropbox/ZFAD/sorl1HCR/sertSCR/\" #data directory\n",
    "\n",
    "# – RUN4 –\n",
    "# brain_dir = \"/Users/francoiskroll/Dropbox/ZFAD/sorl1HCR/sertSORL1/\" #data directory\n",
    "\n",
    "\n",
    "### chunk below prepares the list of brains ready to be analysed\n",
    "brains=[]\n",
    "\n",
    "for files in listdir_nohidden(brain_dir): # FK 19/05/2023 was os.listdit(brain_dir), changed to def listdir_nohidden(brain_dir): because on macos tries to import .DS_Store file\n",
    "    brain = tifffile.imread(brain_dir + files) # FK 19/05/2023 deleted + '//' + as using on macos\n",
    "    rescale_brain = downscale_local_mean(brain, (2, 2, 2)) # scale brains down to mask size\n",
    "    rescale_brain = rescale_brain.astype('uint8') # FK no rescaling is occuring here (variable is rescale_brain), I think just conversion\n",
    "    brains.append(rescale_brain)\n",
    "    %xdel brain"
   ]
  },
  {
   "cell_type": "code",
   "execution_count": 5,
   "metadata": {},
   "outputs": [],
   "source": [
    "# some useful stuff for debugging\n",
    "# mask = tifffile.imread('/Users/francoiskroll/Dropbox/ZFAD/sorl1HCR/000_MASKS/Anterior commissure.tif')\n",
    "# print(brain[np.nonzero(mask)])\n",
    "# np.median(brain[np.nonzero(mask)])\n"
   ]
  },
  {
   "cell_type": "code",
   "execution_count": 6,
   "metadata": {},
   "outputs": [
    {
     "name": "stdout",
     "output_type": "stream",
     "text": [
      "brain num:  1\n",
      "brain num:  2\n",
      "brain num:  3\n",
      "brain num:  4\n",
      "brain num:  5\n",
      "brain num:  6\n",
      "brain num:  7\n",
      "brain num:  8\n",
      "brain num:  9\n",
      "brain num:  10\n"
     ]
    }
   ],
   "source": [
    "pixel_mask_result = [] #list of dictionaries for each brain: {mask name: measures}\n",
    "mask_names = listdir_nohidden(mask_dir)\n",
    "\n",
    "i=1\n",
    "\n",
    "for brain in brains:\n",
    "    print('brain num: ', i)\n",
    "    mask_pix, sum_pix, mean_pix, median_pix, min_pix, max_pix = mask_process(mask_dir, brain) # calling function to analyse pixels within every mask\n",
    "    ziptogether = zip(mask_names, mask_pix, sum_pix, mean_pix, median_pix, min_pix, max_pix)\n",
    "    pixel_mask_list = list(ziptogether)\n",
    "    pixel_mask_result.append(pixel_mask_list)\n",
    "    i=i+1"
   ]
  },
  {
   "cell_type": "code",
   "execution_count": 7,
   "metadata": {},
   "outputs": [],
   "source": [
    "#change: NT_geno (neurotransmitter and genotype), writefile (save to folder)\n",
    "\n",
    "writefile = \"/Users/francoiskroll/Dropbox/ZFAD/sorl1HCR/intensityVoxels_v3/\" # results file directory\n",
    "# NT_geno = \"SCR_tph\" # suffix for control or treated or gene expression\n",
    "# NT_geno = \"SORL1_tph\"\n",
    "# NT_geno = \"SCR_sert\"\n",
    "# NT_geno = \"SORL1_sert\"\n",
    "\n",
    "brain_num = 1 # initialise brain number\n",
    "\n",
    "headers = ['anatomy', 'numVx', 'sumVx', 'meanVx', 'medianVx', 'minVx', 'maxVx']\n",
    "\n",
    "for pixels in pixel_mask_result:\n",
    "    pix_data = open(writefile + NT_geno + str(brain_num) + '.csv', 'w', newline='') # FK 19/05/2023 deleted + '//' + as using on macos\n",
    "    brain_num += 1\n",
    "    writer = csv.writer(pix_data)\n",
    "    writer.writerow(headers)\n",
    "    \n",
    "    for ind, data in enumerate(pixels):\n",
    "        writer.writerow(data)\n",
    "        \n",
    "    pix_data.close()"
   ]
  }
 ],
 "metadata": {
  "kernelspec": {
   "display_name": "Python 3 (ipykernel)",
   "language": "python",
   "name": "python3"
  },
  "language_info": {
   "codemirror_mode": {
    "name": "ipython",
    "version": 3
   },
   "file_extension": ".py",
   "mimetype": "text/x-python",
   "name": "python",
   "nbconvert_exporter": "python",
   "pygments_lexer": "ipython3",
   "version": "3.9.6"
  },
  "varInspector": {
   "cols": {
    "lenName": 16,
    "lenType": 16,
    "lenVar": 40
   },
   "kernels_config": {
    "python": {
     "delete_cmd_postfix": "",
     "delete_cmd_prefix": "del ",
     "library": "var_list.py",
     "varRefreshCmd": "print(var_dic_list())"
    },
    "r": {
     "delete_cmd_postfix": ") ",
     "delete_cmd_prefix": "rm(",
     "library": "var_list.r",
     "varRefreshCmd": "cat(var_dic_list()) "
    }
   },
   "types_to_exclude": [
    "module",
    "function",
    "builtin_function_or_method",
    "instance",
    "_Feature"
   ],
   "window_display": false
  }
 },
 "nbformat": 4,
 "nbformat_minor": 4
}
