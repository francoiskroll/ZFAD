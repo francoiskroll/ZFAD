{
 "cells": [
  {
   "cell_type": "code",
   "execution_count": 3,
   "metadata": {},
   "outputs": [],
   "source": [
    "import os\n",
    "import math\n",
    "from czifile import CziFile\n",
    "import nrrd\n",
    "import numpy\n",
    "import skimage\n",
    "from skimage.exposure import rescale_intensity, adjust_log, adjust_sigmoid, equalize_adapthist\n",
    "from skimage.filters import threshold_otsu\n",
    "from skimage.morphology import label, convex_hull_image, medial_axis, erosion, disk\n",
    "from skimage.transform import rotate, downscale_local_mean\n",
    "from skimage.util import crop\n",
    "import matplotlib\n",
    "from matplotlib.pyplot import imshow"
   ]
  },
  {
   "cell_type": "code",
   "execution_count": 5,
   "metadata": {},
   "outputs": [
    {
     "name": "stdout",
     "output_type": "stream",
     "text": [
      "(360, 1920, 1920)\n"
     ]
    }
   ],
   "source": [
    "image = CziFile(\"S:\\\\DBIO_Rihel_Lab\\\\Josh\\\\20230321_sert_tph\\\\SCR\\\\F1_SCR.czi\")\n",
    "img_array = image.asarray()\n",
    "img_ch1 = numpy.squeeze(img_array[0,0,0,0,0,0,0])\n",
    "img_ch2 = numpy.squeeze(img_array[0,0,0,0,0,0,1])\n",
    "img_ch1 = numpy.flip(img_ch1,0)\n",
    "img_ch2 = numpy.flip(img_ch2,0)\n",
    "print(img_ch1.shape)\n",
    "%xdel img_array"
   ]
  },
  {
   "cell_type": "code",
   "execution_count": 6,
   "metadata": {},
   "outputs": [
    {
     "data": {
      "text/plain": [
       "(1, 1, 1, 1, 1, 1, 3, 1, 360, 1920, 1920, 1)"
      ]
     },
     "execution_count": 6,
     "metadata": {},
     "output_type": "execute_result"
    }
   ],
   "source": [
    "image.shape"
   ]
  },
  {
   "cell_type": "code",
   "execution_count": 7,
   "metadata": {},
   "outputs": [
    {
     "name": "stdout",
     "output_type": "stream",
     "text": [
      "uint16\n",
      "(360, 1920, 1920)\n"
     ]
    }
   ],
   "source": [
    "print(img_ch1.dtype)\n",
    "ch1_cl = img_ch1\n",
    "ch2_cl = img_ch2\n",
    "print(ch1_cl.shape)"
   ]
  },
  {
   "cell_type": "code",
   "execution_count": 9,
   "metadata": {},
   "outputs": [
    {
     "data": {
      "text/plain": [
       "<matplotlib.image.AxesImage at 0x1ff8bc33d90>"
      ]
     },
     "execution_count": 9,
     "metadata": {},
     "output_type": "execute_result"
    },
    {
     "data": {
      "image/png": "[encoded data removed]",
      "text/plain": [
       "<Figure size 432x288 with 1 Axes>"
      ]
     },
     "metadata": {
      "needs_background": "light"
     },
     "output_type": "display_data"
    }
   ],
   "source": [
    "matplotlib.pyplot.imshow(ch1_cl[220],vmax=5000)"
   ]
  },
  {
   "cell_type": "code",
   "execution_count": 10,
   "metadata": {},
   "outputs": [
    {
     "name": "stderr",
     "output_type": "stream",
     "text": [
      "C:\\Users\\BiancoLab\\AppData\\Local\\Temp\\ipykernel_6948\\372404213.py:4: FutureWarning: `selem` is a deprecated argument name for `erosion`. It will be removed in version 1.0. Please use `footprint` instead.\n",
      "  test1 = skimage.morphology.erosion(test1,selem = disk(11))\n"
     ]
    },
    {
     "name": "stdout",
     "output_type": "stream",
     "text": [
      "-48.01278750418334\n"
     ]
    },
    {
     "data": {
      "text/plain": [
       "<matplotlib.image.AxesImage at 0x1ff8bbddd00>"
      ]
     },
     "execution_count": 10,
     "metadata": {},
     "output_type": "execute_result"
    },
    {
     "data": {
      "image/png": "[encoded data removed]",
      "text/plain": [
       "<Figure size 432x288 with 1 Axes>"
      ]
     },
     "metadata": {
      "needs_background": "light"
     },
     "output_type": "display_data"
    }
   ],
   "source": [
    "test = ch1_cl[int(ch1_cl.shape[0]/2.5)]\n",
    "thresh = skimage.filters.threshold_otsu(test)\n",
    "test1 = test > thresh/2.3\n",
    "test1 = skimage.morphology.erosion(test1,selem = disk(11))\n",
    "final = skimage.morphology.convex_hull_image(test1)\n",
    "skel,dist = skimage.morphology.medial_axis(final,return_distance=True)\n",
    "ones = numpy.nonzero(skel>0)\n",
    "first=(ones[0][0],ones[1][0])\n",
    "last = numpy.unravel_index(numpy.argmax(dist),dist.shape)\n",
    "deltay = last[1] - first[1]\n",
    "deltax = last[0] - first[0]\n",
    "ori = math.degrees(math.atan2(deltay, deltax))\n",
    "print(ori)\n",
    "matplotlib.pyplot.imshow(skel,vmin=0,vmax=0.1)"
   ]
  },
  {
   "cell_type": "code",
   "execution_count": 11,
   "metadata": {},
   "outputs": [
    {
     "ename": "MemoryError",
     "evalue": "Unable to allocate 56.1 MiB for an array with shape (2711, 2711) and data type float64",
     "output_type": "error",
     "traceback": [
      "\u001b[1;31m---------------------------------------------------------------------------\u001b[0m",
      "\u001b[1;31mMemoryError\u001b[0m                               Traceback (most recent call last)",
      "Input \u001b[1;32mIn [11]\u001b[0m, in \u001b[0;36m<cell line: 9>\u001b[1;34m()\u001b[0m\n\u001b[0;32m      7\u001b[0m     get_ipython()\u001b[38;5;241m.\u001b[39mrun_line_magic(\u001b[38;5;124m'\u001b[39m\u001b[38;5;124mxdel\u001b[39m\u001b[38;5;124m'\u001b[39m, \u001b[38;5;124m'\u001b[39m\u001b[38;5;124mtemp\u001b[39m\u001b[38;5;124m'\u001b[39m)\n\u001b[0;32m      9\u001b[0m \u001b[38;5;28;01mfor\u001b[39;00m slices \u001b[38;5;129;01min\u001b[39;00m ch2_cl:\n\u001b[1;32m---> 10\u001b[0m     temp \u001b[38;5;241m=\u001b[39m \u001b[43mskimage\u001b[49m\u001b[38;5;241;43m.\u001b[39;49m\u001b[43mtransform\u001b[49m\u001b[38;5;241;43m.\u001b[39;49m\u001b[43mrotate\u001b[49m\u001b[43m(\u001b[49m\u001b[43mslices\u001b[49m\u001b[43m,\u001b[49m\u001b[38;5;241;43m90\u001b[39;49m\u001b[38;5;241;43m-\u001b[39;49m\u001b[43mori\u001b[49m\u001b[43m,\u001b[49m\u001b[43mresize\u001b[49m\u001b[38;5;241;43m=\u001b[39;49m\u001b[38;5;28;43;01mTrue\u001b[39;49;00m\u001b[43m,\u001b[49m\u001b[43mpreserve_range\u001b[49m\u001b[38;5;241;43m=\u001b[39;49m\u001b[38;5;28;43;01mTrue\u001b[39;49;00m\u001b[43m)\u001b[49m\n\u001b[0;32m     11\u001b[0m     rot_ch2\u001b[38;5;241m.\u001b[39mappend(temp)\n\u001b[0;32m     12\u001b[0m     get_ipython()\u001b[38;5;241m.\u001b[39mrun_line_magic(\u001b[38;5;124m'\u001b[39m\u001b[38;5;124mxdel\u001b[39m\u001b[38;5;124m'\u001b[39m, \u001b[38;5;124m'\u001b[39m\u001b[38;5;124mtemp\u001b[39m\u001b[38;5;124m'\u001b[39m)\n",
      "File \u001b[1;32m~\\anaconda3\\lib\\site-packages\\skimage\\transform\\_warps.py:457\u001b[0m, in \u001b[0;36mrotate\u001b[1;34m(image, angle, resize, center, order, mode, cval, clip, preserve_range)\u001b[0m\n\u001b[0;32m    454\u001b[0m \u001b[38;5;66;03m# Make sure the transform is exactly affine, to ensure fast warping.\u001b[39;00m\n\u001b[0;32m    455\u001b[0m tform\u001b[38;5;241m.\u001b[39mparams[\u001b[38;5;241m2\u001b[39m] \u001b[38;5;241m=\u001b[39m (\u001b[38;5;241m0\u001b[39m, \u001b[38;5;241m0\u001b[39m, \u001b[38;5;241m1\u001b[39m)\n\u001b[1;32m--> 457\u001b[0m \u001b[38;5;28;01mreturn\u001b[39;00m \u001b[43mwarp\u001b[49m\u001b[43m(\u001b[49m\u001b[43mimage\u001b[49m\u001b[43m,\u001b[49m\u001b[43m \u001b[49m\u001b[43mtform\u001b[49m\u001b[43m,\u001b[49m\u001b[43m \u001b[49m\u001b[43moutput_shape\u001b[49m\u001b[38;5;241;43m=\u001b[39;49m\u001b[43moutput_shape\u001b[49m\u001b[43m,\u001b[49m\u001b[43m \u001b[49m\u001b[43morder\u001b[49m\u001b[38;5;241;43m=\u001b[39;49m\u001b[43morder\u001b[49m\u001b[43m,\u001b[49m\n\u001b[0;32m    458\u001b[0m \u001b[43m            \u001b[49m\u001b[43mmode\u001b[49m\u001b[38;5;241;43m=\u001b[39;49m\u001b[43mmode\u001b[49m\u001b[43m,\u001b[49m\u001b[43m \u001b[49m\u001b[43mcval\u001b[49m\u001b[38;5;241;43m=\u001b[39;49m\u001b[43mcval\u001b[49m\u001b[43m,\u001b[49m\u001b[43m \u001b[49m\u001b[43mclip\u001b[49m\u001b[38;5;241;43m=\u001b[39;49m\u001b[43mclip\u001b[49m\u001b[43m,\u001b[49m\u001b[43m \u001b[49m\u001b[43mpreserve_range\u001b[49m\u001b[38;5;241;43m=\u001b[39;49m\u001b[43mpreserve_range\u001b[49m\u001b[43m)\u001b[49m\n",
      "File \u001b[1;32m~\\anaconda3\\lib\\site-packages\\skimage\\transform\\_warps.py:932\u001b[0m, in \u001b[0;36mwarp\u001b[1;34m(image, inverse_map, map_args, output_shape, order, mode, cval, clip, preserve_range)\u001b[0m\n\u001b[0;32m    930\u001b[0m ctype \u001b[38;5;241m=\u001b[39m \u001b[38;5;124m'\u001b[39m\u001b[38;5;124mfloat32_t\u001b[39m\u001b[38;5;124m'\u001b[39m \u001b[38;5;28;01mif\u001b[39;00m image\u001b[38;5;241m.\u001b[39mdtype \u001b[38;5;241m==\u001b[39m np\u001b[38;5;241m.\u001b[39mfloat32 \u001b[38;5;28;01melse\u001b[39;00m \u001b[38;5;124m'\u001b[39m\u001b[38;5;124mfloat64_t\u001b[39m\u001b[38;5;124m'\u001b[39m\n\u001b[0;32m    931\u001b[0m \u001b[38;5;28;01mif\u001b[39;00m image\u001b[38;5;241m.\u001b[39mndim \u001b[38;5;241m==\u001b[39m \u001b[38;5;241m2\u001b[39m:\n\u001b[1;32m--> 932\u001b[0m     warped \u001b[38;5;241m=\u001b[39m \u001b[43m_warp_fast\u001b[49m\u001b[43m[\u001b[49m\u001b[43mctype\u001b[49m\u001b[43m]\u001b[49m\u001b[43m(\u001b[49m\u001b[43mimage\u001b[49m\u001b[43m,\u001b[49m\u001b[43m \u001b[49m\u001b[43mmatrix\u001b[49m\u001b[43m,\u001b[49m\n\u001b[0;32m    933\u001b[0m \u001b[43m                               \u001b[49m\u001b[43moutput_shape\u001b[49m\u001b[38;5;241;43m=\u001b[39;49m\u001b[43moutput_shape\u001b[49m\u001b[43m,\u001b[49m\n\u001b[0;32m    934\u001b[0m \u001b[43m                               \u001b[49m\u001b[43morder\u001b[49m\u001b[38;5;241;43m=\u001b[39;49m\u001b[43morder\u001b[49m\u001b[43m,\u001b[49m\u001b[43m \u001b[49m\u001b[43mmode\u001b[49m\u001b[38;5;241;43m=\u001b[39;49m\u001b[43mmode\u001b[49m\u001b[43m,\u001b[49m\u001b[43m \u001b[49m\u001b[43mcval\u001b[49m\u001b[38;5;241;43m=\u001b[39;49m\u001b[43mcval\u001b[49m\u001b[43m)\u001b[49m\n\u001b[0;32m    935\u001b[0m \u001b[38;5;28;01melif\u001b[39;00m image\u001b[38;5;241m.\u001b[39mndim \u001b[38;5;241m==\u001b[39m \u001b[38;5;241m3\u001b[39m:\n\u001b[0;32m    936\u001b[0m     dims \u001b[38;5;241m=\u001b[39m []\n",
      "File \u001b[1;32m~\\anaconda3\\lib\\site-packages\\skimage\\transform\\_warps_cy.pyx:145\u001b[0m, in \u001b[0;36mskimage.transform._warps_cy._warp_fast\u001b[1;34m()\u001b[0m\n",
      "\u001b[1;31mMemoryError\u001b[0m: Unable to allocate 56.1 MiB for an array with shape (2711, 2711) and data type float64"
     ]
    }
   ],
   "source": [
    "rot_ch1=[]\n",
    "rot_ch2=[]\n",
    "\n",
    "for slices in ch1_cl:\n",
    "    temp = skimage.transform.rotate(slices,90-ori,resize=True,preserve_range=True)\n",
    "    rot_ch1.append(temp)\n",
    "    %xdel temp\n",
    "    \n",
    "for slices in ch2_cl:\n",
    "    temp = skimage.transform.rotate(slices,90-ori,resize=True,preserve_range=True)\n",
    "    rot_ch2.append(temp)\n",
    "    %xdel temp\n",
    "    \n",
    "%xdel img_ch1\n",
    "%xdel img_ch2"
   ]
  },
  {
   "cell_type": "code",
   "execution_count": null,
   "metadata": {},
   "outputs": [],
   "source": [
    "rot_ch1 = numpy.asarray(rot_ch1,dtype=numpy.uint16)\n",
    "rot_ch2 = numpy.asarray(rot_ch2,dtype=numpy.uint16)\n",
    "print(rot_ch1.dtype)\n",
    "print(rot_ch1.shape)"
   ]
  },
  {
   "cell_type": "code",
   "execution_count": null,
   "metadata": {},
   "outputs": [],
   "source": [
    "ch1 = skimage.util.crop(rot_ch1, ((0, 0), (int((rot_ch1.shape[1]-1280)/2),int((rot_ch1.shape[1]-1280)/2)), (int((rot_ch1.shape[2]-1900)/2),int((rot_ch1.shape[2]-1900)/2))), copy=False)\n",
    "ch2 = skimage.util.crop(rot_ch2, ((0, 0), (int((rot_ch2.shape[1]-1280)/2),int((rot_ch2.shape[1]-1280)/2)), (int((rot_ch2.shape[2]-1900)/2),int((rot_ch2.shape[2]-1900)/2))), copy=False)\n",
    "ch1_r = skimage.transform.downscale_local_mean(ch1, (1, 2, 2),cval=0)\n",
    "ch2_r = skimage.transform.downscale_local_mean(ch2, (1, 2, 2),cval=0)\n",
    "# ch2_r = skimage.exposure.rescale_intensity(ch2_r)\n",
    "ch1_r = skimage.exposure.adjust_gamma(ch1_r,gamma=1,gain=2)\n",
    "ch1_r = skimage.exposure.rescale_intensity(ch1_r)\n",
    "ch2_ds = skimage.util.img_as_ubyte(ch2_r)\n",
    "ch1_ds = skimage.util.img_as_ubyte(ch1_r)\n",
    "\n",
    "print(ch1_ds.dtype)\n",
    "print(ch1_ds.shape)\n",
    "%xdel ch1\n",
    "%xdel ch2\n",
    "%xdel ch1_r\n",
    "%xdel ch2_r"
   ]
  },
  {
   "cell_type": "code",
   "execution_count": null,
   "metadata": {},
   "outputs": [],
   "source": [
    "nrrd.write('D:\\\\lightsheetdata\\\\2020-31-10 DAPI gad sst1 npy\\\\brain1_gad_sst1_01.nrrd',ch1_ds,index_order = 'C',compression_level=1)\n",
    "nrrd.write('D:\\\\lightsheetdata\\\\2020-31-10 DAPI gad sst1 npy\\\\brain1_gad_sst1_02.nrrd',ch2_ds,index_order = 'C',compression_level=1)"
   ]
  },
  {
   "cell_type": "code",
   "execution_count": null,
   "metadata": {},
   "outputs": [],
   "source": [
    "%reset"
   ]
  },
  {
   "cell_type": "code",
   "execution_count": null,
   "metadata": {},
   "outputs": [],
   "source": []
  }
 ],
 "metadata": {
  "kernelspec": {
   "display_name": "Python 3 (ipykernel)",
   "language": "python",
   "name": "python3"
  },
  "language_info": {
   "codemirror_mode": {
    "name": "ipython",
    "version": 3
   },
   "file_extension": ".py",
   "mimetype": "text/x-python",
   "name": "python",
   "nbconvert_exporter": "python",
   "pygments_lexer": "ipython3",
   "version": "3.9.12"
  }
 },
 "nbformat": 4,
 "nbformat_minor": 4
}
